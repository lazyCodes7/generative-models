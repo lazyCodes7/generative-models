{
 "cells": [
  {
   "cell_type": "code",
   "execution_count": 17,
   "id": "6a12f0eb",
   "metadata": {},
   "outputs": [],
   "source": [
    "from unet import UNet\n",
    "import matplotlib.pyplot as plt\n",
    "from diffusion import Diffusion\n",
    "import torchvision.datasets as datasets\n",
    "import torchvision.transforms as transforms\n",
    "from tqdm import tqdm\n",
    "from PIL import Image\n",
    "import torch.nn as nn\n",
    "import torch"
   ]
  },
  {
   "cell_type": "code",
   "execution_count": 2,
   "id": "834555f5",
   "metadata": {},
   "outputs": [],
   "source": [
    "transform = transforms.Compose([\n",
    "    transforms.ToTensor(),\n",
    "])"
   ]
  },
  {
   "cell_type": "code",
   "execution_count": 3,
   "id": "d29e8665",
   "metadata": {},
   "outputs": [],
   "source": [
    "from torch.utils.data import DataLoader"
   ]
  },
  {
   "cell_type": "code",
   "execution_count": 4,
   "id": "608f1fba",
   "metadata": {},
   "outputs": [
    {
     "name": "stdout",
     "output_type": "stream",
     "text": [
      "Files already downloaded and verified\n",
      "Files already downloaded and verified\n"
     ]
    }
   ],
   "source": [
    "train_dataset = datasets.CIFAR10(root = 'data/', train = True, download = True, transform = transform)\n",
    "test_dataset = datasets.CIFAR10(root = 'data/', train = False, download = True, transform = transform)"
   ]
  },
  {
   "cell_type": "code",
   "execution_count": 5,
   "id": "3fac21c6",
   "metadata": {},
   "outputs": [],
   "source": [
    "train_loader = DataLoader(train_dataset, batch_size = 16, shuffle = True)\n",
    "test_loader = DataLoader(test_dataset, batch_size = 16, shuffle = False)"
   ]
  },
  {
   "cell_type": "code",
   "execution_count": 6,
   "id": "c9037c7a",
   "metadata": {},
   "outputs": [],
   "source": [
    "def save_images(images, path, **kwargs):\n",
    "    grid = torchvision.utils.make_grid(images, **kwargs)\n",
    "    ndarr = grid.permute(1, 2, 0).to('cpu').numpy()\n",
    "    im = Image.fromarray(ndarr)\n",
    "    im.save(path)"
   ]
  },
  {
   "cell_type": "code",
   "execution_count": 7,
   "id": "30c967e7",
   "metadata": {},
   "outputs": [],
   "source": [
    "import torch.optim as optim"
   ]
  },
  {
   "cell_type": "code",
   "execution_count": 43,
   "id": "78271c66",
   "metadata": {},
   "outputs": [],
   "source": [
    "def train(\n",
    "    device = 'cpu',\n",
    "    lr = 1e-4,\n",
    "    img_size = 32,\n",
    "    epochs = 10,\n",
    "    \n",
    "):\n",
    "    \n",
    "    model = UNet().to(device)\n",
    "    optimizer = optim.Adam(model.parameters(), lr=lr)\n",
    "    criterion = nn.MSELoss()\n",
    "    diffusion = Diffusion(img_size=img_size, device=device)\n",
    "    for epoch in range(epochs):\n",
    "        with tqdm(train_loader, unit=\"batch\") as tepoch:\n",
    "            for images, label in tepoch:\n",
    "                tepoch.set_description(f\"Epoch {epoch+1}\")\n",
    "                images = images.to(device)\n",
    "                t = diffusion.sample_timesteps(images.shape[0]).to(device)\n",
    "                x_t, noise = diffusion.sample_noise_image(images, t)\n",
    "                predicted_noise = model(x_t, t)\n",
    "                loss = criterion(noise, predicted_noise)\n",
    "\n",
    "                optimizer.zero_grad()\n",
    "                loss.backward()\n",
    "                optimizer.step()\n",
    "                tepoch.set_postfix(loss=loss.item())\n",
    "        \n",
    "        sampled_images = diffusion.sample_initial_image(model, images.shape[0])\n",
    "        save_images(sampled_images, path = './runs/epoch{}_sampled_images.jpg'.format(epoch+1))   "
   ]
  },
  {
   "cell_type": "code",
   "execution_count": 9,
   "id": "0d23ed71",
   "metadata": {},
   "outputs": [],
   "source": [
    "model = UNet().to('cpu')\n",
    "#optimizer = optim.Adam(model.parameters(), lr=lr)\n",
    "#criterion = nn.MSELoss()\n",
    "diffusion = Diffusion(img_size=32, device='cpu')"
   ]
  },
  {
   "cell_type": "code",
   "execution_count": 10,
   "id": "2d3d900f",
   "metadata": {},
   "outputs": [],
   "source": [
    "criterion = nn.MSELoss()"
   ]
  },
  {
   "cell_type": "code",
   "execution_count": 11,
   "id": "bb7c6357",
   "metadata": {},
   "outputs": [],
   "source": [
    "device = 'cpu'"
   ]
  },
  {
   "cell_type": "code",
   "execution_count": 12,
   "id": "910dccd8",
   "metadata": {},
   "outputs": [],
   "source": [
    "images, label = next(iter(train_loader))"
   ]
  },
  {
   "cell_type": "code",
   "execution_count": 13,
   "id": "22efa825",
   "metadata": {},
   "outputs": [],
   "source": [
    "images = images.to(device)\n",
    "t = diffusion.sample_timesteps(images.shape[0]).to(device)\n",
    "x_t, noise = diffusion.sample_noise_image(images, t)\n",
    "predicted_noise = model(x_t, t)\n",
    "loss = criterion(noise, predicted_noise)"
   ]
  },
  {
   "cell_type": "code",
   "execution_count": 19,
   "id": "6d920ca9",
   "metadata": {},
   "outputs": [],
   "source": [
    "sqrt_alpha_bar = torch.sqrt(diffusion.alpha_bar[t])[:, None, None, None]\n",
    "sqrt_one_minus_alpha_bar = torch.sqrt(1 - diffusion.alpha_bar[t])[:, None, None, None]"
   ]
  },
  {
   "cell_type": "code",
   "execution_count": 21,
   "id": "f4803fa7",
   "metadata": {},
   "outputs": [
    {
     "name": "stdout",
     "output_type": "stream",
     "text": [
      "tensor([[[[0.9442]]],\n",
      "\n",
      "\n",
      "        [[[0.9998]]],\n",
      "\n",
      "\n",
      "        [[[0.9886]]],\n",
      "\n",
      "\n",
      "        [[[0.2437]]],\n",
      "\n",
      "\n",
      "        [[[0.9865]]],\n",
      "\n",
      "\n",
      "        [[[0.9998]]],\n",
      "\n",
      "\n",
      "        [[[0.8255]]],\n",
      "\n",
      "\n",
      "        [[[0.9627]]],\n",
      "\n",
      "\n",
      "        [[[0.8467]]],\n",
      "\n",
      "\n",
      "        [[[0.7180]]],\n",
      "\n",
      "\n",
      "        [[[0.9730]]],\n",
      "\n",
      "\n",
      "        [[[0.8980]]],\n",
      "\n",
      "\n",
      "        [[[0.1203]]],\n",
      "\n",
      "\n",
      "        [[[0.7392]]],\n",
      "\n",
      "\n",
      "        [[[0.9999]]],\n",
      "\n",
      "\n",
      "        [[[0.9851]]]])\n"
     ]
    }
   ],
   "source": [
    "print(sqrt_one_minus_alpha_bar)"
   ]
  },
  {
   "cell_type": "code",
   "execution_count": null,
   "id": "e286a1db",
   "metadata": {},
   "outputs": [],
   "source": []
  },
  {
   "cell_type": "code",
   "execution_count": 22,
   "id": "367f848a",
   "metadata": {},
   "outputs": [
    {
     "data": {
      "text/plain": [
       "tensor([[[[0.3294]]],\n",
       "\n",
       "\n",
       "        [[[0.0206]]],\n",
       "\n",
       "\n",
       "        [[[0.1504]]],\n",
       "\n",
       "\n",
       "        [[[0.9698]]],\n",
       "\n",
       "\n",
       "        [[[0.1638]]],\n",
       "\n",
       "\n",
       "        [[[0.0215]]],\n",
       "\n",
       "\n",
       "        [[[0.5645]]],\n",
       "\n",
       "\n",
       "        [[[0.2705]]],\n",
       "\n",
       "\n",
       "        [[[0.5321]]],\n",
       "\n",
       "\n",
       "        [[[0.6961]]],\n",
       "\n",
       "\n",
       "        [[[0.2310]]],\n",
       "\n",
       "\n",
       "        [[[0.4400]]],\n",
       "\n",
       "\n",
       "        [[[0.9927]]],\n",
       "\n",
       "\n",
       "        [[[0.6735]]],\n",
       "\n",
       "\n",
       "        [[[0.0111]]],\n",
       "\n",
       "\n",
       "        [[[0.1719]]]])"
      ]
     },
     "execution_count": 22,
     "metadata": {},
     "output_type": "execute_result"
    }
   ],
   "source": [
    "sqrt_alpha_bar"
   ]
  },
  {
   "cell_type": "code",
   "execution_count": 21,
   "id": "ee6a3905",
   "metadata": {},
   "outputs": [
    {
     "data": {
      "text/plain": [
       "tensor([146, 114, 837, 488, 890, 723, 391, 351, 440, 309, 301, 276, 571, 379,\n",
       "        771, 488])"
      ]
     },
     "execution_count": 21,
     "metadata": {},
     "output_type": "execute_result"
    }
   ],
   "source": [
    "t"
   ]
  },
  {
   "cell_type": "code",
   "execution_count": 20,
   "id": "6fa19259",
   "metadata": {},
   "outputs": [],
   "source": [
    "import matplotlib.pyplot as plt"
   ]
  },
  {
   "cell_type": "code",
   "execution_count": 22,
   "id": "0c765464",
   "metadata": {},
   "outputs": [
    {
     "data": {
      "text/plain": [
       "tensor([[[[0.6314, 0.6157, 0.6157,  ..., 0.6000, 0.5843, 0.5647],\n",
       "          [0.6275, 0.6118, 0.6118,  ..., 0.6157, 0.6000, 0.5804],\n",
       "          [0.6235, 0.6078, 0.6118,  ..., 0.6392, 0.6314, 0.6235],\n",
       "          ...,\n",
       "          [0.3294, 0.3020, 0.2863,  ..., 0.3216, 0.3020, 0.2863],\n",
       "          [0.3176, 0.2980, 0.2745,  ..., 0.2667, 0.2588, 0.2471],\n",
       "          [0.2980, 0.2863, 0.2627,  ..., 0.2431, 0.2314, 0.2235]],\n",
       "\n",
       "         [[0.6588, 0.6588, 0.6627,  ..., 0.6118, 0.5961, 0.5843],\n",
       "          [0.6706, 0.6706, 0.6745,  ..., 0.6471, 0.6275, 0.6118],\n",
       "          [0.6784, 0.6824, 0.6863,  ..., 0.6549, 0.6471, 0.6392],\n",
       "          ...,\n",
       "          [0.5569, 0.5490, 0.5333,  ..., 0.5647, 0.5529, 0.5451],\n",
       "          [0.5569, 0.5490, 0.5333,  ..., 0.5412, 0.5373, 0.5373],\n",
       "          [0.5451, 0.5412, 0.5373,  ..., 0.5412, 0.5373, 0.5373]],\n",
       "\n",
       "         [[0.7059, 0.7059, 0.7020,  ..., 0.6235, 0.6039, 0.5843],\n",
       "          [0.7529, 0.7529, 0.7451,  ..., 0.6980, 0.6706, 0.6510],\n",
       "          [0.7412, 0.7451, 0.7373,  ..., 0.6980, 0.6863, 0.6745],\n",
       "          ...,\n",
       "          [0.7137, 0.7216, 0.7098,  ..., 0.7529, 0.7373, 0.7333],\n",
       "          [0.7137, 0.7216, 0.7098,  ..., 0.7333, 0.7294, 0.7294],\n",
       "          [0.7059, 0.7176, 0.7137,  ..., 0.7373, 0.7333, 0.7333]]],\n",
       "\n",
       "\n",
       "        [[[0.3569, 0.1451, 0.1333,  ..., 0.5137, 0.5098, 0.5098],\n",
       "          [0.2314, 0.1569, 0.1843,  ..., 0.5216, 0.5137, 0.5098],\n",
       "          [0.1961, 0.2196, 0.2275,  ..., 0.5216, 0.5176, 0.5137],\n",
       "          ...,\n",
       "          [0.7294, 0.6941, 0.7098,  ..., 0.6627, 0.6235, 0.6235],\n",
       "          [0.7373, 0.7216, 0.7059,  ..., 0.6784, 0.6471, 0.6235],\n",
       "          [0.7412, 0.7294, 0.7255,  ..., 0.6549, 0.6510, 0.6196]],\n",
       "\n",
       "         [[0.3686, 0.1412, 0.1176,  ..., 0.4627, 0.4549, 0.4588],\n",
       "          [0.2196, 0.1333, 0.1529,  ..., 0.4667, 0.4549, 0.4510],\n",
       "          [0.1725, 0.1882, 0.1922,  ..., 0.4588, 0.4549, 0.4510],\n",
       "          ...,\n",
       "          [0.7961, 0.7451, 0.7490,  ..., 0.6627, 0.6157, 0.6157],\n",
       "          [0.8078, 0.7804, 0.7529,  ..., 0.6863, 0.6510, 0.6235],\n",
       "          [0.8078, 0.7961, 0.7882,  ..., 0.6706, 0.6627, 0.6235]],\n",
       "\n",
       "         [[0.3647, 0.1451, 0.1216,  ..., 0.4314, 0.4235, 0.4275],\n",
       "          [0.2157, 0.1333, 0.1569,  ..., 0.4353, 0.4275, 0.4235],\n",
       "          [0.1608, 0.1804, 0.1882,  ..., 0.4314, 0.4275, 0.4235],\n",
       "          ...,\n",
       "          [0.8353, 0.7725, 0.7608,  ..., 0.6902, 0.6392, 0.6314],\n",
       "          [0.8431, 0.8039, 0.7686,  ..., 0.7176, 0.6745, 0.6431],\n",
       "          [0.8353, 0.8235, 0.8157,  ..., 0.7020, 0.6863, 0.6431]]],\n",
       "\n",
       "\n",
       "        [[[0.0549, 0.0275, 0.0549,  ..., 0.1020, 0.1059, 0.0902],\n",
       "          [0.0667, 0.0431, 0.0510,  ..., 0.0627, 0.0353, 0.0196],\n",
       "          [0.1020, 0.0784, 0.1020,  ..., 0.0549, 0.0157, 0.0000],\n",
       "          ...,\n",
       "          [0.2157, 0.2863, 0.3020,  ..., 0.2980, 0.2431, 0.2235],\n",
       "          [0.1961, 0.2549, 0.2431,  ..., 0.3098, 0.2706, 0.2235],\n",
       "          [0.2118, 0.2471, 0.2510,  ..., 0.2784, 0.2549, 0.2000]],\n",
       "\n",
       "         [[0.0745, 0.0588, 0.0980,  ..., 0.1569, 0.1608, 0.1451],\n",
       "          [0.0941, 0.0863, 0.1059,  ..., 0.0980, 0.0706, 0.0588],\n",
       "          [0.1412, 0.1294, 0.1686,  ..., 0.0902, 0.0510, 0.0314],\n",
       "          ...,\n",
       "          [0.2745, 0.3686, 0.4431,  ..., 0.5059, 0.4471, 0.4235],\n",
       "          [0.2824, 0.3647, 0.3882,  ..., 0.5176, 0.4627, 0.4078],\n",
       "          [0.3333, 0.4000, 0.3961,  ..., 0.4863, 0.4392, 0.3647]],\n",
       "\n",
       "         [[0.0588, 0.0392, 0.0706,  ..., 0.0902, 0.0941, 0.0784],\n",
       "          [0.0667, 0.0510, 0.0667,  ..., 0.0588, 0.0314, 0.0196],\n",
       "          [0.0980, 0.0824, 0.1176,  ..., 0.0588, 0.0235, 0.0000],\n",
       "          ...,\n",
       "          [0.1569, 0.2078, 0.2235,  ..., 0.1529, 0.1333, 0.1176],\n",
       "          [0.1294, 0.1725, 0.1647,  ..., 0.1686, 0.1804, 0.1490],\n",
       "          [0.1451, 0.1608, 0.1490,  ..., 0.1333, 0.1647, 0.1255]]],\n",
       "\n",
       "\n",
       "        ...,\n",
       "\n",
       "\n",
       "        [[[0.3765, 0.3765, 0.3725,  ..., 0.3686, 0.3725, 0.3686],\n",
       "          [0.3961, 0.3961, 0.3922,  ..., 0.3882, 0.3922, 0.3882],\n",
       "          [0.4157, 0.4157, 0.4157,  ..., 0.4078, 0.4118, 0.4078],\n",
       "          ...,\n",
       "          [0.7373, 0.7373, 0.7412,  ..., 0.7412, 0.7373, 0.7333],\n",
       "          [0.7333, 0.7373, 0.7412,  ..., 0.7451, 0.7412, 0.7373],\n",
       "          [0.7333, 0.7412, 0.7451,  ..., 0.7490, 0.7490, 0.7412]],\n",
       "\n",
       "         [[0.4000, 0.4039, 0.4039,  ..., 0.4000, 0.3961, 0.3922],\n",
       "          [0.4196, 0.4235, 0.4275,  ..., 0.4196, 0.4157, 0.4118],\n",
       "          [0.4392, 0.4431, 0.4510,  ..., 0.4431, 0.4353, 0.4314],\n",
       "          ...,\n",
       "          [0.7647, 0.7647, 0.7686,  ..., 0.7647, 0.7608, 0.7608],\n",
       "          [0.7608, 0.7647, 0.7686,  ..., 0.7647, 0.7608, 0.7608],\n",
       "          [0.7608, 0.7686, 0.7725,  ..., 0.7686, 0.7686, 0.7647]],\n",
       "\n",
       "         [[0.6392, 0.6431, 0.6471,  ..., 0.6431, 0.6353, 0.6314],\n",
       "          [0.6471, 0.6549, 0.6667,  ..., 0.6588, 0.6510, 0.6392],\n",
       "          [0.6627, 0.6706, 0.6824,  ..., 0.6745, 0.6667, 0.6588],\n",
       "          ...,\n",
       "          [0.8392, 0.8392, 0.8431,  ..., 0.8471, 0.8392, 0.8392],\n",
       "          [0.8353, 0.8392, 0.8431,  ..., 0.8431, 0.8392, 0.8353],\n",
       "          [0.8353, 0.8431, 0.8471,  ..., 0.8471, 0.8471, 0.8431]]],\n",
       "\n",
       "\n",
       "        [[[0.1373, 0.1686, 0.1922,  ..., 0.0000, 0.0000, 0.0000],\n",
       "          [0.1529, 0.1961, 0.2196,  ..., 0.0000, 0.0039, 0.0039],\n",
       "          [0.1725, 0.2235, 0.2275,  ..., 0.0157, 0.0157, 0.0157],\n",
       "          ...,\n",
       "          [0.0510, 0.0471, 0.0706,  ..., 0.5804, 0.5569, 0.4980],\n",
       "          [0.0431, 0.0392, 0.0588,  ..., 0.5725, 0.5176, 0.4627],\n",
       "          [0.0431, 0.0275, 0.0549,  ..., 0.5216, 0.4627, 0.4157]],\n",
       "\n",
       "         [[0.0784, 0.1137, 0.1373,  ..., 0.0039, 0.0039, 0.0039],\n",
       "          [0.1020, 0.1451, 0.1608,  ..., 0.0039, 0.0078, 0.0078],\n",
       "          [0.1294, 0.1804, 0.1804,  ..., 0.0196, 0.0235, 0.0196],\n",
       "          ...,\n",
       "          [0.0235, 0.0000, 0.0039,  ..., 0.5098, 0.4863, 0.4275],\n",
       "          [0.0235, 0.0000, 0.0039,  ..., 0.5020, 0.4471, 0.3961],\n",
       "          [0.0353, 0.0000, 0.0078,  ..., 0.4510, 0.3922, 0.3451]],\n",
       "\n",
       "         [[0.0314, 0.0667, 0.0902,  ..., 0.0000, 0.0000, 0.0000],\n",
       "          [0.0627, 0.1098, 0.1255,  ..., 0.0000, 0.0000, 0.0000],\n",
       "          [0.0980, 0.1490, 0.1569,  ..., 0.0039, 0.0039, 0.0039],\n",
       "          ...,\n",
       "          [0.0157, 0.0039, 0.0039,  ..., 0.4941, 0.4706, 0.4078],\n",
       "          [0.0118, 0.0039, 0.0000,  ..., 0.4863, 0.4314, 0.3725],\n",
       "          [0.0157, 0.0000, 0.0039,  ..., 0.4353, 0.3765, 0.3255]]],\n",
       "\n",
       "\n",
       "        [[[0.2196, 0.2431, 0.2588,  ..., 0.9765, 0.9765, 0.9765],\n",
       "          [0.2353, 0.2471, 0.2588,  ..., 0.9961, 1.0000, 1.0000],\n",
       "          [0.2392, 0.2431, 0.2510,  ..., 0.9843, 0.9922, 0.9961],\n",
       "          ...,\n",
       "          [0.1333, 0.1373, 0.1490,  ..., 0.1647, 0.0902, 0.0471],\n",
       "          [0.1333, 0.1373, 0.1647,  ..., 0.0706, 0.0392, 0.0235],\n",
       "          [0.1294, 0.1451, 0.2196,  ..., 0.0157, 0.0118, 0.0157]],\n",
       "\n",
       "         [[0.2314, 0.2549, 0.2745,  ..., 0.9647, 0.9569, 0.9529],\n",
       "          [0.2588, 0.2706, 0.2824,  ..., 0.9843, 0.9843, 0.9804],\n",
       "          [0.2667, 0.2667, 0.2784,  ..., 0.9725, 0.9725, 0.9725],\n",
       "          ...,\n",
       "          [0.1569, 0.1569, 0.1765,  ..., 0.1686, 0.0941, 0.0510],\n",
       "          [0.1529, 0.1529, 0.1843,  ..., 0.0745, 0.0431, 0.0275],\n",
       "          [0.1490, 0.1529, 0.2235,  ..., 0.0196, 0.0157, 0.0196]],\n",
       "\n",
       "         [[0.2902, 0.3137, 0.3333,  ..., 0.8196, 0.8039, 0.7882],\n",
       "          [0.3216, 0.3333, 0.3490,  ..., 0.8431, 0.8314, 0.8196],\n",
       "          [0.3333, 0.3373, 0.3490,  ..., 0.8392, 0.8275, 0.8235],\n",
       "          ...,\n",
       "          [0.2196, 0.2235, 0.2118,  ..., 0.1843, 0.1098, 0.0706],\n",
       "          [0.2196, 0.2157, 0.2118,  ..., 0.0902, 0.0588, 0.0431],\n",
       "          [0.2118, 0.2078, 0.2392,  ..., 0.0314, 0.0275, 0.0314]]]])"
      ]
     },
     "execution_count": 22,
     "metadata": {},
     "output_type": "execute_result"
    }
   ],
   "source": [
    "images"
   ]
  },
  {
   "cell_type": "code",
   "execution_count": 25,
   "id": "a439ff6b",
   "metadata": {},
   "outputs": [
    {
     "data": {
      "text/plain": [
       "torch.Size([16, 3, 32, 32])"
      ]
     },
     "execution_count": 25,
     "metadata": {},
     "output_type": "execute_result"
    }
   ],
   "source": [
    "images.shape"
   ]
  },
  {
   "cell_type": "code",
   "execution_count": 23,
   "id": "f5da4c6e",
   "metadata": {},
   "outputs": [
    {
     "data": {
      "text/plain": [
       "tensor([[[-0.1181, -0.4795, -0.9563,  ...,  1.4093, -1.5725,  2.0850],\n",
       "         [ 0.8942, -0.0639,  2.5998,  ..., -0.1994,  0.2874, -1.6820],\n",
       "         [ 1.4410, -0.8446, -0.3476,  ..., -1.1601,  0.1105,  1.7786],\n",
       "         ...,\n",
       "         [-2.2272, -0.8667,  0.6140,  ...,  0.4518,  1.5797,  0.1261],\n",
       "         [ 1.8191,  0.1365,  0.7763,  ..., -0.4708, -0.3174,  0.7889],\n",
       "         [ 0.0300, -0.5844, -0.3902,  ...,  1.0298,  0.2156, -0.4290]],\n",
       "\n",
       "        [[ 0.4244,  0.7518, -0.2942,  ..., -1.2044,  0.8891,  0.6702],\n",
       "         [-0.9994, -2.2496,  1.0503,  ...,  0.4698, -1.0159, -1.7676],\n",
       "         [-0.2005, -0.9599,  1.4399,  ...,  1.1895,  0.5636, -0.2893],\n",
       "         ...,\n",
       "         [ 1.7582,  0.9004, -1.1410,  ..., -1.5394, -0.7286, -0.7447],\n",
       "         [ 1.8989,  0.2132, -1.2373,  ...,  1.8867, -0.3820,  0.8798],\n",
       "         [ 1.0902,  0.5541,  0.7648,  ...,  0.3199,  0.1856,  1.4410]],\n",
       "\n",
       "        [[-0.3340,  1.6900, -1.5028,  ..., -0.0727, -0.3431, -1.6258],\n",
       "         [ 1.0005,  0.7284,  0.2152,  ..., -0.7862,  0.4012, -1.1166],\n",
       "         [ 0.5609, -0.3225, -0.5754,  ...,  1.2078,  1.9104, -1.0497],\n",
       "         ...,\n",
       "         [-0.8757,  0.0528,  0.8410,  ...,  0.7538, -1.1138, -0.1752],\n",
       "         [ 0.6695,  0.6692,  1.3881,  ..., -1.1223, -0.7184, -0.0070],\n",
       "         [-0.7753, -0.2565, -0.1397,  ...,  1.9478, -0.0650, -0.6440]]])"
      ]
     },
     "execution_count": 23,
     "metadata": {},
     "output_type": "execute_result"
    }
   ],
   "source": [
    "x_t[2]"
   ]
  },
  {
   "cell_type": "code",
   "execution_count": 40,
   "id": "da570a7e",
   "metadata": {},
   "outputs": [
    {
     "name": "stderr",
     "output_type": "stream",
     "text": [
      "Clipping input data to the valid range for imshow with RGB data ([0..1] for floats or [0..255] for integers).\n"
     ]
    },
    {
     "data": {
      "text/plain": [
       "<matplotlib.image.AxesImage at 0x7ffa64bce770>"
      ]
     },
     "execution_count": 40,
     "metadata": {},
     "output_type": "execute_result"
    },
    {
     "data": {
      "image/png": "[encoded data removed]",
      "text/plain": [
       "<Figure size 640x480 with 1 Axes>"
      ]
     },
     "metadata": {},
     "output_type": "display_data"
    }
   ],
   "source": [
    "plt.imshow(x_t[15].permute(1,2,0))"
   ]
  },
  {
   "cell_type": "code",
   "execution_count": 41,
   "id": "07202614",
   "metadata": {},
   "outputs": [
    {
     "name": "stderr",
     "output_type": "stream",
     "text": [
      "Clipping input data to the valid range for imshow with RGB data ([0..1] for floats or [0..255] for integers).\n"
     ]
    },
    {
     "data": {
      "text/plain": [
       "<matplotlib.image.AxesImage at 0x7ffa64a36830>"
      ]
     },
     "execution_count": 41,
     "metadata": {},
     "output_type": "execute_result"
    },
    {
     "data": {
      "image/png": "[encoded data removed]",
      "text/plain": [
       "<Figure size 640x480 with 1 Axes>"
      ]
     },
     "metadata": {},
     "output_type": "display_data"
    }
   ],
   "source": [
    "plt.imshow(noise[15].permute(1,2,0))"
   ]
  },
  {
   "cell_type": "code",
   "execution_count": 18,
   "id": "c1b7b3d5",
   "metadata": {},
   "outputs": [
    {
     "data": {
      "text/plain": [
       "tensor([[[[ 7.6392e-03,  1.1879e+00, -2.4429e-01,  ...,  4.8421e-01,\n",
       "           -5.9493e-01, -9.5897e-01],\n",
       "          [-3.9247e-01,  1.5234e-01,  1.8501e-01,  ..., -4.4563e-01,\n",
       "           -5.8966e-01, -1.3296e+00],\n",
       "          [ 7.5066e-02,  8.8346e-01, -9.7526e-01,  ..., -3.5088e-01,\n",
       "           -1.0415e+00,  9.4792e-01],\n",
       "          ...,\n",
       "          [-1.2266e-01, -2.1626e+00, -6.0329e-01,  ...,  1.1736e+00,\n",
       "            1.1487e+00,  5.4720e-01],\n",
       "          [ 6.5962e-01, -9.8504e-01, -6.0638e-01,  ...,  7.0926e-01,\n",
       "            1.8010e+00,  8.1099e-01],\n",
       "          [-8.1935e-01, -8.8966e-01, -1.1876e+00,  ..., -1.6232e+00,\n",
       "           -1.4483e+00, -9.0634e-01]],\n",
       "\n",
       "         [[ 8.6452e-01, -7.5811e-01, -6.3345e-01,  ...,  3.2975e-01,\n",
       "           -2.9797e-02,  3.2674e-01],\n",
       "          [ 7.1972e-01, -5.1593e-01,  5.4007e-01,  ..., -9.2504e-01,\n",
       "           -1.0325e+00,  9.8646e-01],\n",
       "          [-9.4266e-01,  4.7034e-01,  4.9193e-01,  ...,  6.3506e-01,\n",
       "            7.9987e-02,  3.6328e-01],\n",
       "          ...,\n",
       "          [-7.3056e-02, -1.7716e-01,  7.0108e-02,  ...,  8.0459e-01,\n",
       "           -1.1372e+00, -1.4306e+00],\n",
       "          [ 9.0115e-01, -7.7042e-01, -9.2538e-01,  ..., -6.0346e-02,\n",
       "           -1.0973e+00, -4.6029e-01],\n",
       "          [-2.2153e+00,  8.2803e-01, -9.5535e-01,  ...,  1.1572e+00,\n",
       "           -7.8156e-01,  1.5805e-01]],\n",
       "\n",
       "         [[ 1.5408e+00, -1.2955e-01,  1.0981e+00,  ..., -1.1976e+00,\n",
       "           -2.3622e-01,  6.1188e-01],\n",
       "          [-7.2223e-01,  2.9113e-01, -5.4599e-01,  ..., -4.6412e-01,\n",
       "            5.6558e-01,  1.4066e+00],\n",
       "          [ 7.3121e-01, -1.7547e-01,  3.8283e-01,  ..., -1.2675e+00,\n",
       "           -5.2721e-01,  1.4520e+00],\n",
       "          ...,\n",
       "          [ 7.3420e-01, -1.1516e+00,  7.9960e-01,  ...,  2.9868e-02,\n",
       "            8.4795e-01,  1.3148e+00],\n",
       "          [-1.7072e-01,  2.9023e-01, -2.7484e+00,  ...,  1.7934e+00,\n",
       "           -8.6177e-01, -1.0147e-01],\n",
       "          [ 6.5560e-01, -1.4512e+00,  9.6070e-01,  ..., -1.0673e+00,\n",
       "            2.1425e-01,  6.3024e-01]]],\n",
       "\n",
       "\n",
       "        [[[-4.3046e-03,  1.3723e+00, -1.6483e+00,  ..., -1.0207e+00,\n",
       "            2.2909e-01,  6.6295e-01],\n",
       "          [ 1.5929e-01,  2.7193e-01,  1.2255e+00,  ..., -5.9928e-02,\n",
       "            5.7868e-02,  1.5975e+00],\n",
       "          [-2.6768e-01,  1.4972e-02,  2.1014e+00,  ...,  2.1208e-01,\n",
       "            2.1147e-01,  3.7823e-01],\n",
       "          ...,\n",
       "          [-6.3903e-01,  7.9620e-02, -5.5115e-01,  ...,  4.7011e-01,\n",
       "           -1.0786e+00,  8.1995e-01],\n",
       "          [-5.2534e-01, -3.4086e-01, -1.6981e+00,  ..., -1.1585e+00,\n",
       "            5.8027e-01, -6.6648e-01],\n",
       "          [-1.7862e+00, -4.2592e-01,  2.9567e-01,  ..., -4.7854e-02,\n",
       "           -5.6629e-01, -2.2734e-01]],\n",
       "\n",
       "         [[ 8.5432e-01, -8.0859e-01, -9.7959e-02,  ..., -2.6433e-01,\n",
       "           -7.2962e-01, -1.5735e+00],\n",
       "          [ 1.4296e-02, -1.9415e+00, -5.6431e-02,  ...,  1.1378e+00,\n",
       "            1.0834e+00, -6.8201e-01],\n",
       "          [-5.4846e-01, -2.2836e+00,  1.0104e+00,  ..., -6.5550e-01,\n",
       "           -1.3783e+00, -1.2223e+00],\n",
       "          ...,\n",
       "          [-5.3314e-01, -8.4636e-01,  1.7008e+00,  ..., -8.8769e-01,\n",
       "           -3.7421e-01,  2.2232e+00],\n",
       "          [-1.0171e+00,  1.5318e+00,  1.5028e+00,  ...,  2.8840e-01,\n",
       "            1.1301e+00, -1.7426e-01],\n",
       "          [ 7.6172e-02,  4.6586e-01, -1.0754e+00,  ...,  2.0913e+00,\n",
       "           -3.1975e-01,  2.6057e-01]],\n",
       "\n",
       "         [[-1.0827e+00, -1.2851e+00,  4.2765e-01,  ..., -2.0508e+00,\n",
       "            1.1116e+00,  9.0321e-01],\n",
       "          [-3.6214e-02,  9.8586e-01, -5.7558e-01,  ...,  1.6652e+00,\n",
       "            1.2620e+00,  4.6232e-01],\n",
       "          [-1.4590e-01, -1.3116e-01,  9.3417e-01,  ..., -7.4642e-02,\n",
       "           -1.9159e+00,  2.9943e-01],\n",
       "          ...,\n",
       "          [ 7.0728e-01, -1.8982e+00,  3.4960e-01,  ...,  1.7384e+00,\n",
       "           -9.7641e-01,  1.9670e+00],\n",
       "          [-6.3417e-01, -6.2181e-01,  7.1776e-01,  ..., -7.5036e-02,\n",
       "            7.2289e-01, -5.8433e-01],\n",
       "          [ 1.2055e+00,  1.0922e+00, -1.8528e+00,  ...,  2.0044e-01,\n",
       "           -5.8401e-01,  6.9296e-01]]],\n",
       "\n",
       "\n",
       "        [[[-1.0752e-01, -3.6164e-02,  3.3818e-01,  ..., -1.1078e+00,\n",
       "            1.0930e+00,  2.7603e-01],\n",
       "          [ 1.1538e-01,  5.9822e-01,  2.3693e+00,  ..., -6.7157e-02,\n",
       "           -5.0811e-01,  9.4486e-01],\n",
       "          [ 7.1812e-01, -1.0588e-01, -1.1802e+00,  ...,  2.1104e+00,\n",
       "           -7.2358e-02,  1.6448e+00],\n",
       "          ...,\n",
       "          [-1.8652e-01, -8.4500e-01,  1.2600e+00,  ..., -1.2576e+00,\n",
       "            5.8094e-01, -9.4552e-01],\n",
       "          [ 1.2198e+00,  1.6651e+00,  2.2592e-01,  ...,  8.0720e-01,\n",
       "           -3.8219e-01,  7.5655e-01],\n",
       "          [ 8.0888e-01,  1.4807e+00,  3.7302e-02,  ..., -5.8703e-01,\n",
       "            9.3733e-01, -1.1594e+00]],\n",
       "\n",
       "         [[ 8.7538e-01,  1.7662e+00, -1.2950e+00,  ...,  1.0454e-01,\n",
       "            3.3894e-01,  7.3402e-01],\n",
       "          [-1.5364e+00,  1.3787e+00,  1.1723e+00,  ...,  2.8649e+00,\n",
       "           -5.8973e-01,  1.1258e+00],\n",
       "          [ 2.8647e-01, -1.4475e+00,  5.7777e-01,  ..., -6.7849e-01,\n",
       "            1.2221e+00,  7.2296e-02],\n",
       "          ...,\n",
       "          [-1.6332e+00,  8.0534e-01,  1.2147e+00,  ...,  3.7198e-01,\n",
       "            2.9560e-01, -1.9881e+00],\n",
       "          [ 7.5017e-01,  8.1582e-01, -1.3048e+00,  ..., -4.4341e-01,\n",
       "            6.8828e-01, -2.5058e-02],\n",
       "          [-7.8781e-01,  7.7801e-01, -4.2559e-01,  ...,  1.1006e+00,\n",
       "            1.5995e+00,  1.2618e+00]],\n",
       "\n",
       "         [[-2.9529e-01,  7.1962e-01,  7.5981e-01,  ...,  1.0194e+00,\n",
       "           -3.1028e-01,  1.1704e+00],\n",
       "          [-1.0694e+00,  1.1081e+00, -1.0212e-03,  ...,  4.8596e-02,\n",
       "            1.2387e+00,  1.4329e+00],\n",
       "          [ 2.3614e-01,  2.1201e+00,  5.8808e-01,  ...,  7.9487e-01,\n",
       "           -2.6696e-01, -3.1297e-01],\n",
       "          ...,\n",
       "          [-1.4223e+00,  9.7850e-01, -2.0418e+00,  ..., -9.1019e-01,\n",
       "           -4.8215e-01,  2.0432e+00],\n",
       "          [ 5.9459e-01, -4.5385e-01, -1.3804e-01,  ..., -6.6556e-01,\n",
       "           -3.4963e-01, -5.2389e-01],\n",
       "          [-2.2930e-01,  1.2636e-01, -2.0115e-01,  ...,  2.4042e+00,\n",
       "            2.9144e+00, -2.1540e-02]]],\n",
       "\n",
       "\n",
       "        ...,\n",
       "\n",
       "\n",
       "        [[[ 5.9528e-02, -1.4285e+00,  1.4208e+00,  ...,  1.0404e+00,\n",
       "            2.7263e-01, -8.7425e-02],\n",
       "          [-1.0429e+00,  2.2230e+00, -1.3238e+00,  ...,  3.0066e-01,\n",
       "            8.2254e-01,  3.4608e-01],\n",
       "          [ 5.2199e-01, -9.8517e-01, -8.4762e-01,  ...,  7.5510e-01,\n",
       "           -3.3036e+00, -5.0064e-01],\n",
       "          ...,\n",
       "          [ 2.4943e+00, -3.6232e-02, -9.5548e-01,  ...,  1.3085e+00,\n",
       "           -1.0119e+00, -4.6493e-01],\n",
       "          [ 7.1935e-01,  9.9144e-01, -2.1245e+00,  ...,  6.3239e-01,\n",
       "            3.9972e-01, -1.9757e+00],\n",
       "          [-2.8452e-01,  7.7734e-01, -6.1809e-02,  ...,  1.1154e+00,\n",
       "            5.7775e-01, -6.6868e-01]],\n",
       "\n",
       "         [[ 1.9547e+00,  1.9279e+00, -1.8149e-01,  ...,  4.8641e-01,\n",
       "            8.7315e-02,  6.4872e-01],\n",
       "          [ 1.1110e-02,  8.7618e-01,  1.1503e+00,  ...,  1.3217e+00,\n",
       "            1.2765e+00,  3.7787e-01],\n",
       "          [-2.3155e+00, -6.7184e-02,  2.3936e-01,  ..., -2.8138e-01,\n",
       "           -3.4142e-01,  1.8706e+00],\n",
       "          ...,\n",
       "          [-2.3689e-02, -3.7164e-02,  1.5887e+00,  ..., -1.6511e+00,\n",
       "           -5.1876e-01, -1.6458e-01],\n",
       "          [ 4.5782e-01,  1.2074e+00,  2.5574e-01,  ..., -3.1899e-01,\n",
       "           -1.3744e+00, -1.6003e+00],\n",
       "          [-2.4526e-01,  1.4043e+00, -1.1572e+00,  ..., -5.4047e-01,\n",
       "           -6.9744e-01,  2.8820e-01]],\n",
       "\n",
       "         [[-5.7923e-01, -9.5922e-02,  1.9124e-01,  ...,  1.6208e+00,\n",
       "           -3.5946e-01,  5.8360e-01],\n",
       "          [ 3.1867e-01, -8.0928e-02, -1.2017e-01,  ..., -6.1149e-01,\n",
       "            1.4643e+00, -1.0024e-01],\n",
       "          [ 9.7238e-01,  6.2031e-01, -2.0175e-01,  ..., -2.8911e-01,\n",
       "            5.0991e-01, -4.1969e-01],\n",
       "          ...,\n",
       "          [-1.2250e+00, -1.6361e-01, -8.3366e-01,  ..., -9.0980e-01,\n",
       "            1.6667e+00, -2.3903e-01],\n",
       "          [ 1.7863e-01, -2.1080e-01,  1.8664e-01,  ...,  8.2186e-01,\n",
       "           -6.4519e-01,  2.3368e-01],\n",
       "          [-1.3475e+00,  1.9568e-01, -4.1562e-01,  ...,  1.0754e+00,\n",
       "            4.8373e-01, -8.2652e-01]]],\n",
       "\n",
       "\n",
       "        [[[ 1.3522e+00, -6.7340e-01, -1.6525e+00,  ...,  7.9500e-01,\n",
       "            7.4394e-01, -1.8518e+00],\n",
       "          [-7.1245e-01, -6.6413e-01, -5.8538e-01,  ...,  9.7839e-01,\n",
       "            1.6128e+00, -5.5815e-01],\n",
       "          [-2.7995e-01,  5.0512e-01, -4.8530e-01,  ...,  9.7897e-02,\n",
       "           -4.1117e-01,  6.7258e-01],\n",
       "          ...,\n",
       "          [ 1.6102e+00,  3.1308e-01,  1.7774e+00,  ..., -4.0037e-01,\n",
       "            1.9159e+00, -8.3196e-01],\n",
       "          [ 7.8573e-01,  1.5768e+00,  2.4485e-01,  ...,  1.5779e+00,\n",
       "           -3.5734e-01, -5.3777e-01],\n",
       "          [-7.6077e-01, -3.9519e-01, -4.1377e-01,  ..., -1.5366e+00,\n",
       "            1.5511e+00,  3.3022e+00]],\n",
       "\n",
       "         [[-8.6249e-01,  1.2612e-01, -2.0422e-01,  ..., -6.4219e-01,\n",
       "           -2.2792e+00,  5.0787e-01],\n",
       "          [ 5.9176e-01, -1.2668e+00, -4.3175e-01,  ...,  2.1567e+00,\n",
       "           -5.3454e-01,  1.9823e-02],\n",
       "          [ 1.4383e+00, -1.7145e+00, -1.5261e+00,  ..., -9.1024e-01,\n",
       "            2.1621e-01, -1.9363e+00],\n",
       "          ...,\n",
       "          [ 4.2440e-01,  8.5931e-01, -7.1970e-02,  ..., -8.4798e-01,\n",
       "            8.7409e-01, -5.4409e-01],\n",
       "          [ 1.3430e+00, -1.7004e-01, -4.2421e-02,  ..., -3.4067e-01,\n",
       "            6.4113e-01, -2.7208e-01],\n",
       "          [ 1.0158e+00, -1.3096e+00, -8.7976e-01,  ..., -4.1103e-01,\n",
       "            6.8060e-03, -3.4174e-01]],\n",
       "\n",
       "         [[-5.1318e-01, -1.0805e+00,  5.8141e-01,  ...,  6.2655e-01,\n",
       "           -6.4298e-01, -1.6422e+00],\n",
       "          [-1.7797e-02,  5.5539e-01, -4.9238e-01,  ...,  3.7470e-01,\n",
       "           -1.1637e+00,  5.7765e-01],\n",
       "          [-1.0230e+00,  9.8079e-01, -2.0273e-02,  ..., -1.3325e+00,\n",
       "           -1.2256e+00,  1.4092e+00],\n",
       "          ...,\n",
       "          [-1.1559e+00,  5.3733e-01,  1.8342e+00,  ...,  1.6580e-01,\n",
       "           -1.5338e+00,  1.4653e-01],\n",
       "          [-4.6554e-01,  1.4726e+00, -1.4416e+00,  ...,  1.9953e-01,\n",
       "            6.6014e-02,  8.0880e-01],\n",
       "          [ 1.1336e+00, -5.4479e-01, -4.9946e-01,  ...,  6.7188e-01,\n",
       "            1.6157e+00, -6.7312e-01]]],\n",
       "\n",
       "\n",
       "        [[[ 2.8562e-01,  7.3410e-01, -1.5365e+00,  ...,  5.2532e-02,\n",
       "            4.6720e-01,  1.9037e+00],\n",
       "          [-5.9051e-01,  1.2588e+00, -7.5574e-01,  ...,  6.1895e-02,\n",
       "           -1.0792e+00, -2.4010e-01],\n",
       "          [-2.3564e+00,  2.0588e+00,  5.5267e-01,  ...,  1.1304e+00,\n",
       "            4.8853e-01, -5.2598e-01],\n",
       "          ...,\n",
       "          [ 8.2510e-01,  4.6483e-01,  2.3943e-01,  ..., -1.0239e+00,\n",
       "            6.7013e-01,  4.4843e-01],\n",
       "          [-7.7511e-01, -4.3661e-01,  1.3118e+00,  ..., -5.8060e-01,\n",
       "            2.2200e-01, -2.3054e-01],\n",
       "          [ 8.9401e-01, -9.4009e-01, -7.3524e-01,  ...,  1.2052e+00,\n",
       "            1.0585e+00, -1.1006e+00]],\n",
       "\n",
       "         [[-1.0758e+00,  1.0368e+00,  5.7670e-01,  ..., -2.0232e+00,\n",
       "           -1.6291e-01, -4.5036e-02],\n",
       "          [-1.3349e+00, -5.4107e-01,  8.4847e-02,  ...,  6.3707e-01,\n",
       "            1.9333e+00, -1.1852e+00],\n",
       "          [-1.2695e+00,  4.8264e-01, -1.1559e+00,  ...,  2.1323e+00,\n",
       "           -7.0186e-01,  1.7223e+00],\n",
       "          ...,\n",
       "          [ 4.8079e-01, -5.6773e-01, -3.0733e-02,  ..., -6.0209e-01,\n",
       "            9.2749e-01, -6.3519e-02],\n",
       "          [ 4.5854e-01, -5.1653e-01, -3.2928e-01,  ..., -6.9353e-01,\n",
       "            1.2767e+00,  4.8484e-02],\n",
       "          [-2.6744e+00, -1.0612e+00,  3.2213e-01,  ..., -4.6629e-01,\n",
       "           -1.3998e+00,  2.1308e+00]],\n",
       "\n",
       "         [[-1.3365e+00, -5.2379e-01, -1.1634e-01,  ...,  6.9786e-01,\n",
       "            5.8566e-01, -2.7479e-01],\n",
       "          [-7.6330e-02,  9.4269e-01, -1.2540e-01,  ..., -1.7313e+00,\n",
       "            5.9847e-01, -1.1699e-01],\n",
       "          [ 8.1359e-01, -7.4182e-01, -9.6274e-02,  ...,  3.2074e-02,\n",
       "            4.3645e-02, -1.4069e+00],\n",
       "          ...,\n",
       "          [ 2.5112e-01,  5.5498e-01, -2.7282e+00,  ...,  1.0295e+00,\n",
       "           -1.2898e-01,  1.7771e-01],\n",
       "          [ 1.2734e-01, -6.8144e-01,  3.8130e-01,  ...,  5.4891e-01,\n",
       "           -5.0684e-01,  1.0235e+00],\n",
       "          [-3.3139e-01, -9.8931e-01, -2.4826e-01,  ..., -8.8082e-01,\n",
       "            4.4907e-01, -3.2486e-01]]]])"
      ]
     },
     "execution_count": 18,
     "metadata": {},
     "output_type": "execute_result"
    }
   ],
   "source": [
    "noise"
   ]
  },
  {
   "cell_type": "code",
   "execution_count": 14,
   "id": "69d26171",
   "metadata": {},
   "outputs": [
    {
     "data": {
      "text/plain": [
       "tensor(1.3242, grad_fn=<MseLossBackward0>)"
      ]
     },
     "execution_count": 14,
     "metadata": {},
     "output_type": "execute_result"
    }
   ],
   "source": [
    "loss"
   ]
  },
  {
   "cell_type": "code",
   "execution_count": null,
   "id": "8e853aef",
   "metadata": {},
   "outputs": [],
   "source": [
    "diffusion.sample_noise_image()"
   ]
  },
  {
   "cell_type": "code",
   "execution_count": null,
   "id": "e2de1faf",
   "metadata": {},
   "outputs": [
    {
     "name": "stderr",
     "output_type": "stream",
     "text": [
      "Epoch 1:   6%|▊             | 187/3125 [05:03<1:30:06,  1.84s/batch, loss=0.087]"
     ]
    }
   ],
   "source": [
    "train()"
   ]
  },
  {
   "cell_type": "code",
   "execution_count": null,
   "id": "778fa815",
   "metadata": {},
   "outputs": [],
   "source": []
  }
 ],
 "metadata": {
  "kernelspec": {
   "display_name": "Python 3 (ipykernel)",
   "language": "python",
   "name": "python3"
  },
  "language_info": {
   "codemirror_mode": {
    "name": "ipython",
    "version": 3
   },
   "file_extension": ".py",
   "mimetype": "text/x-python",
   "name": "python",
   "nbconvert_exporter": "python",
   "pygments_lexer": "ipython3",
   "version": "3.10.6"
  }
 },
 "nbformat": 4,
 "nbformat_minor": 5
}
